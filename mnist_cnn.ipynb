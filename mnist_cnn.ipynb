{
  "nbformat": 4,
  "nbformat_minor": 0,
  "metadata": {
    "colab": {
      "name": "mnist_cnn.ipynb",
      "provenance": [],
      "collapsed_sections": [],
      "authorship_tag": "ABX9TyM/g4niBCOSKlZRYqbbXC0k",
      "include_colab_link": true
    },
    "kernelspec": {
      "name": "python3",
      "display_name": "Python 3"
    }
  },
  "cells": [
    {
      "cell_type": "markdown",
      "metadata": {
        "id": "view-in-github",
        "colab_type": "text"
      },
      "source": [
        "<a href=\"https://colab.research.google.com/github/poojan14/MNIST/blob/master/mnist_cnn.ipynb\" target=\"_parent\"><img src=\"https://colab.research.google.com/assets/colab-badge.svg\" alt=\"Open In Colab\"/></a>"
      ]
    },
    {
      "cell_type": "code",
      "metadata": {
        "id": "JhgCp373Z4V6",
        "colab_type": "code",
        "colab": {}
      },
      "source": [
        "import keras\n",
        "from keras.datasets import mnist\n",
        "from keras.models import Sequential\n",
        "from keras.layers import Dense,Dropout,Conv2D,MaxPooling2D,Flatten\n",
        "from keras.optimizers import RMSprop"
      ],
      "execution_count": 0,
      "outputs": []
    },
    {
      "cell_type": "code",
      "metadata": {
        "id": "Uuq7ed1MaYcX",
        "colab_type": "code",
        "colab": {}
      },
      "source": [
        "(mnist_train_images, mnist_train_labels), (mnist_test_images,mnist_test_labels)= mnist.load_data()"
      ],
      "execution_count": 0,
      "outputs": []
    },
    {
      "cell_type": "code",
      "metadata": {
        "id": "0EQy-gkbaY7V",
        "colab_type": "code",
        "colab": {}
      },
      "source": [
        "from keras import backend as K\n",
        "if K.image_data_format()=='channels_first':\n",
        "  train_images=mnist_train_images.reshape(mnist_train_images.shape[0],1,28,28)\n",
        "  test_images=mnist_test_images.reshape(mnist_test_images.shape[0],1,28,28)\n",
        "  input_shape=(28,28,1)\n",
        "else:\n",
        "  train_images=mnist_train_images.reshape(mnist_train_images.shape[0],28,28,1)\n",
        "  test_images=mnist_test_images.reshape(mnist_test_images.shape[0],28,28,1)\n",
        "  input_shape=(28,28,1)\n",
        "train_images=train_images.astype('float32')\n",
        "test_images=test_images.astype('float32')\n",
        "train_images /=255\n",
        "test_images /=255"
      ],
      "execution_count": 0,
      "outputs": []
    },
    {
      "cell_type": "code",
      "metadata": {
        "id": "qjkQQMFYaZTk",
        "colab_type": "code",
        "colab": {}
      },
      "source": [
        "train_labels=keras.utils.to_categorical(mnist_train_labels,10)\n",
        "test_labels=keras.utils.to_categorical(mnist_test_labels,10)"
      ],
      "execution_count": 0,
      "outputs": []
    },
    {
      "cell_type": "code",
      "metadata": {
        "id": "vhLT17VWaZ8q",
        "colab_type": "code",
        "outputId": "aa161b0b-d370-4f68-ee18-f6043d6dc477",
        "colab": {
          "base_uri": "https://localhost:8080/",
          "height": 298
        }
      },
      "source": [
        "import matplotlib.pyplot as plt\n",
        "def display_sample(num):\n",
        "  print(train_labels[num])\n",
        "  label=train_labels[num].argmax(axis=0)\n",
        "  image=train_images[num].reshape([28,28])\n",
        "  plt.title('Sample: %d Label %d' %(num,label))\n",
        "  plt.imshow(image,cmap=plt.get_cmap('gray_r'))\n",
        "  plt.show()\n",
        "display_sample(1234)\n"
      ],
      "execution_count": 0,
      "outputs": [
        {
          "output_type": "stream",
          "text": [
            "[0. 0. 0. 1. 0. 0. 0. 0. 0. 0.]\n"
          ],
          "name": "stdout"
        },
        {
          "output_type": "display_data",
          "data": {
            "image/png": "[encoded data removed]",
            "text/plain": [
              "<Figure size 432x288 with 1 Axes>"
            ]
          },
          "metadata": {
            "tags": []
          }
        }
      ]
    },
    {
      "cell_type": "code",
      "metadata": {
        "id": "YgtwyNjJaaeU",
        "colab_type": "code",
        "colab": {}
      },
      "source": [
        "model=Sequential()\n",
        "model.add(Conv2D(32,kernel_size=(3,3),activation='relu',input_shape=input_shape))\n",
        "model.add(Conv2D(64,(3,3),activation='relu'))\n",
        "model.add(MaxPooling2D(pool_size=(2,2)))\n",
        "model.add(Dropout(0.25))\n",
        "model.add(Flatten())\n",
        "model.add(Dense(128,activation='relu'))\n",
        "model.add(Dropout(0.5))\n",
        "model.add(Dense(10,activation='softmax'))"
      ],
      "execution_count": 0,
      "outputs": []
    },
    {
      "cell_type": "code",
      "metadata": {
        "id": "QvAZviInc3n5",
        "colab_type": "code",
        "colab": {}
      },
      "source": [
        "model.compile(loss='categorical_crossentropy',optimizer='Adam',metrics=['accuracy'])"
      ],
      "execution_count": 0,
      "outputs": []
    },
    {
      "cell_type": "code",
      "metadata": {
        "id": "UHCCEh2Lc4wO",
        "colab_type": "code",
        "outputId": "8d05653a-d7a1-41fa-a265-c121f2865914",
        "colab": {
          "base_uri": "https://localhost:8080/",
          "height": 238
        }
      },
      "source": [
        "history=model.fit(train_images,train_labels,batch_size=32,epochs=6,verbose=2,validation_data=(test_images,test_labels))"
      ],
      "execution_count": 0,
      "outputs": [
        {
          "output_type": "stream",
          "text": [
            "Train on 60000 samples, validate on 10000 samples\n",
            "Epoch 1/6\n",
            " - 167s - loss: 0.1876 - acc: 0.9422 - val_loss: 0.0455 - val_acc: 0.9846\n",
            "Epoch 2/6\n",
            " - 167s - loss: 0.0790 - acc: 0.9770 - val_loss: 0.0364 - val_acc: 0.9874\n",
            "Epoch 3/6\n",
            " - 167s - loss: 0.0616 - acc: 0.9810 - val_loss: 0.0300 - val_acc: 0.9898\n",
            "Epoch 4/6\n",
            " - 167s - loss: 0.0495 - acc: 0.9850 - val_loss: 0.0268 - val_acc: 0.9917\n",
            "Epoch 5/6\n",
            " - 166s - loss: 0.0405 - acc: 0.9874 - val_loss: 0.0273 - val_acc: 0.9915\n",
            "Epoch 6/6\n",
            " - 167s - loss: 0.0350 - acc: 0.9892 - val_loss: 0.0316 - val_acc: 0.9902\n"
          ],
          "name": "stdout"
        }
      ]
    },
    {
      "cell_type": "code",
      "metadata": {
        "id": "OD56PZpFc_yf",
        "colab_type": "code",
        "outputId": "2d1ab2cc-b3d6-49c2-f974-45103334a47c",
        "colab": {
          "base_uri": "https://localhost:8080/",
          "height": 51
        }
      },
      "source": [
        "score=model.evaluate(test_images,test_labels,verbose=0)\n",
        "print('Test loss:',score[0])\n",
        "print('Test accuracy',score[1])"
      ],
      "execution_count": 0,
      "outputs": [
        {
          "output_type": "stream",
          "text": [
            "Test loss: 0.03160231459969018\n",
            "Test accuracy 0.9902\n"
          ],
          "name": "stdout"
        }
      ]
    },
    {
      "cell_type": "markdown",
      "metadata": {
        "id": "Ss6_CB1N7FrM",
        "colab_type": "text"
      },
      "source": [
        "MNIST with CNN, adam optimizer, at 6 epochs train_Acc= 98.92 ,test_acu=99.02 \n",
        "at 4 epoch train_acc=98.50 ,test_acc=99.17"
      ]
    },
    {
      "cell_type": "code",
      "metadata": {
        "id": "QMZIsgT58kqf",
        "colab_type": "code",
        "colab": {}
      },
      "source": [
        ""
      ],
      "execution_count": 0,
      "outputs": []
    }
  ]
}